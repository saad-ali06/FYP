{
 "cells": [
  {
   "cell_type": "code",
   "execution_count": 1,
   "metadata": {},
   "outputs": [
    {
     "name": "stdout",
     "output_type": "stream",
     "text": [
      "WARNING:tensorflow:From d:\\All Projects\\FYP\\.venv\\Lib\\site-packages\\keras\\src\\losses.py:2976: The name tf.losses.sparse_softmax_cross_entropy is deprecated. Please use tf.compat.v1.losses.sparse_softmax_cross_entropy instead.\n",
      "\n"
     ]
    }
   ],
   "source": [
    "from keras.models import model_from_json\n",
    "from tensorflow.keras.preprocessing.sequence import pad_sequences\n",
    "from tensorflow.keras.models import load_model\n",
    "import re\n",
    "import pickle"
   ]
  },
  {
   "cell_type": "code",
   "execution_count": 2,
   "metadata": {},
   "outputs": [
    {
     "name": "stdout",
     "output_type": "stream",
     "text": [
      "WARNING:tensorflow:From d:\\All Projects\\FYP\\.venv\\Lib\\site-packages\\keras\\src\\backend.py:1398: The name tf.executing_eagerly_outside_functions is deprecated. Please use tf.compat.v1.executing_eagerly_outside_functions instead.\n",
      "\n",
      "WARNING:tensorflow:From d:\\All Projects\\FYP\\.venv\\Lib\\site-packages\\keras\\src\\optimizers\\__init__.py:309: The name tf.train.Optimizer is deprecated. Please use tf.compat.v1.train.Optimizer instead.\n",
      "\n"
     ]
    }
   ],
   "source": [
    "# Load the architecture from JSON\n",
    "with open(\"saved_models\\LSTM_model.json\", \"r\") as json_file:\n",
    "    loaded_model_json = json_file.read()\n",
    "\n",
    "# Create the model from the JSON\n",
    "model = model_from_json(loaded_model_json)\n",
    "\n",
    "# Load the weights into the model\n",
    "model.load_weights(\"saved_models\\LSTM_model.h5\")\n",
    "\n",
    "# Now you can use loaded_model to make predictions\n",
    "model.compile(loss=\"binary_crossentropy\", optimizer='adam', metrics=[\"accuracy\"])"
   ]
  },
  {
   "cell_type": "code",
   "execution_count": 3,
   "metadata": {},
   "outputs": [],
   "source": [
    "model = load_model(\"saved_models\\lstm_saved_model.h5\")"
   ]
  },
  {
   "cell_type": "markdown",
   "metadata": {},
   "source": [
    "## **Load Tokenizer**"
   ]
  },
  {
   "cell_type": "code",
   "execution_count": 6,
   "metadata": {},
   "outputs": [],
   "source": [
    "# load the tokenizer\n",
    "with open('saved_tokenizer/tokenizer.pkl', 'rb') as tokenizer_file:\n",
    "    tokenizer = pickle.load(tokenizer_file)"
   ]
  },
  {
   "cell_type": "code",
   "execution_count": 4,
   "metadata": {},
   "outputs": [],
   "source": [
    "def pre_process(ds):\n",
    "    corpus = []\n",
    "    for i in range(len(ds)):\n",
    "        if isinstance(ds[i], str):\n",
    "            review = re.sub('[^a-zA-Z]', ' ', ds[i])\n",
    "            review = review.split(' ')\n",
    "            review = [word for word in review if word != '']\n",
    "            corpus.append(review)\n",
    "    return corpus"
   ]
  },
  {
   "cell_type": "code",
   "execution_count": 8,
   "metadata": {},
   "outputs": [
    {
     "name": "stdout",
     "output_type": "stream",
     "text": [
      "1/1 [==============================] - 0s 48ms/step\n",
      "Sentiment for this tweet is: Negative with score: 0.99711484\n"
     ]
    }
   ],
   "source": [
    "sentence=[\"ghatiya insaan ho tum!!\"]\n",
    "max_len = 279\n",
    "sentence=pre_process(sentence)\n",
    "sentence = tokenizer.texts_to_sequences(sentence)\n",
    "sentence=pad_sequences(sentence, maxlen=max_len, padding='post', truncating='post')\n",
    "output=model.predict(sentence)\n",
    "threshold = 0.5\n",
    "prediction = 'Negative' if output > threshold else 'Positive'\n",
    "print(\"Sentiment for this tweet is:\",prediction,'with score:',output[0,0])"
   ]
  }
 ],
 "metadata": {
  "kernelspec": {
   "display_name": ".venv",
   "language": "python",
   "name": "python3"
  },
  "language_info": {
   "codemirror_mode": {
    "name": "ipython",
    "version": 3
   },
   "file_extension": ".py",
   "mimetype": "text/x-python",
   "name": "python",
   "nbconvert_exporter": "python",
   "pygments_lexer": "ipython3",
   "version": "3.11.4"
  }
 },
 "nbformat": 4,
 "nbformat_minor": 2
}
